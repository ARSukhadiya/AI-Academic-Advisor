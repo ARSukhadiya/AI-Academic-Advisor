{
 "cells": [
  {
   "cell_type": "code",
   "execution_count": null,
   "metadata": {},
   "outputs": [],
   "source": [
    "import pandas as pd\n",
    "import xgboost as xgb\n",
    "from sklearn.model_selection import train_test_split\n",
    "from sklearn.metrics import accuracy_score\n",
    "from sklearn.preprocessing import LabelEncoder\n",
    "\n",
    "# Example: Load your data\n",
    "students_df = pd.read_csv('students.csv')  # student_id, age, gender, etc.\n",
    "courses_df = pd.read_csv('courses.csv')    # course_id, course_name, syllabus_length, etc.\n",
    "performance_df = pd.read_csv('performance.csv')  # student_id, course_id, grade, etc.\n",
    "\n",
    "# Merge the data to create a full student-course interaction dataframe\n",
    "interaction_df = pd.merge(performance_df, students_df, on='student_id', how='left')\n",
    "interaction_df = pd.merge(interaction_df, courses_df, on='course_id', how='left')\n",
    "\n",
    "# Create target variable: 1 if the student interacted (e.g., enrolled in or performed well in the course), otherwise 0\n",
    "interaction_df['interaction'] = interaction_df['grade'].apply(lambda x: 1 if x >= 50 else 0)  # Example: if grade >= 50, interaction = 1\n",
    "\n",
    "# Feature Engineering: Create the features for XGBoost\n",
    "interaction_df['age'] = interaction_df['age'].fillna(interaction_df['age'].mean())\n",
    "interaction_df['gender'] = interaction_df['gender'].fillna('unknown')\n",
    "\n",
    "# Encoding categorical features (e.g., gender)\n",
    "label_encoder = LabelEncoder()\n",
    "interaction_df['gender'] = label_encoder.fit_transform(interaction_df['gender'])\n",
    "\n",
    "# Select the features for training\n",
    "features = ['age', 'gender', 'syllabus_length', 'grade']  # You can add more features like past course interactions\n",
    "X = interaction_df[features]\n",
    "y = interaction_df['interaction']\n",
    "\n",
    "# Split the data into training and testing sets\n",
    "X_train, X_test, y_train, y_test = train_test_split(X, y, test_size=0.2, random_state=42)\n"
   ]
  }
 ],
 "metadata": {
  "language_info": {
   "name": "python"
  }
 },
 "nbformat": 4,
 "nbformat_minor": 2
}
